{
 "cells": [
  {
   "cell_type": "code",
   "execution_count": null,
   "metadata": {},
   "outputs": [],
   "source": [
    "import mysql.connector\n",
    "\n",
    "\n",
    "\n",
    "\n",
    "connection= mysql.connector.connect(\n",
    " host=\"localhost\",\n",
    " user=\"root\",\n",
    " password=\"\",\n",
    "\n",
    "\n",
    ")\n",
    "\n",
    "\n",
    "print(connection)\n",
    "mycursor = connection.cursor()\n"
   ]
  },
  {
   "cell_type": "code",
   "execution_count": null,
   "metadata": {},
   "outputs": [],
   "source": [
    "mycursor.execute(''' select * from crime.chicago limit 10;\n",
    "''')\n",
    "out=mycursor.fetchall()\n",
    "from tabulate import tabulate\n",
    "print(tabulate(out,headers=[i[0] for i in mycursor.description],  tablefmt='psql'))"
   ]
  },
  {
   "cell_type": "code",
   "execution_count": null,
   "metadata": {},
   "outputs": [],
   "source": [
    "mycursor.execute('''\n",
    "    select `Location Description`from crime.chicago \n",
    "where year(Date) = 2023 and `Primary Type` = 'THEFT'\n",
    "\n",
    "''')\n",
    "out = mycursor.fetchall()\n",
    "\n",
    "from tabulate import tabulate\n",
    "print(tabulate(out, headers=[i[0] for i in mycursor.description], tablefmt='psql'))\n"
   ]
  },
  {
   "cell_type": "code",
   "execution_count": null,
   "metadata": {},
   "outputs": [],
   "source": [
    "mycursor.execute('''\n",
    "    select `District`, count(*) as `Total Crimes` from crime.chicago\n",
    "group by `District`;\n",
    "''')\n",
    "out = mycursor.fetchall()\n",
    "\n",
    "from tabulate import tabulate\n",
    "print(tabulate(out, headers=[i[0] for i in mycursor.description], tablefmt='psql'))\n"
   ]
  },
  {
   "cell_type": "code",
   "execution_count": null,
   "metadata": {},
   "outputs": [],
   "source": [
    "mycursor.execute('''\n",
    "    select count(*) as `Total Crimes` FROM crime.chicago\n",
    "where Date between '2022-01-01' and '2022-12-31';\n",
    "''')\n",
    "out = mycursor.fetchall()\n",
    "\n",
    "from tabulate import tabulate\n",
    "print(tabulate(out, headers=[i[0] for i in mycursor.description], tablefmt='psql'))\n"
   ]
  },
  {
   "cell_type": "code",
   "execution_count": null,
   "metadata": {},
   "outputs": [],
   "source": [
    "mycursor.execute('''\n",
    "    select `Primary Type`,count(*) as Frequency from crime.chicago group by `Primary Type`\n",
    "order by Frequency DESC LIMIT 5;\n",
    "''')\n",
    "out = mycursor.fetchall()\n",
    "\n",
    "from tabulate import tabulate\n",
    "print(tabulate(out, headers=[i[0] for i in mycursor.description], tablefmt='psql'))\n"
   ]
  },
  {
   "cell_type": "code",
   "execution_count": null,
   "metadata": {},
   "outputs": [],
   "source": [
    "mycursor.execute('''\n",
    "    select Beat, District, count(*) as Total_Crimes\n",
    "from crime.chicago group by Beat, District order by Total_Crimes desc;\n",
    "''')\n",
    "out = mycursor.fetchall()\n",
    "\n",
    "from tabulate import tabulate\n",
    "print(tabulate(out, headers=[i[0] for i in mycursor.description], tablefmt='psql'))"
   ]
  },
  {
   "cell_type": "code",
   "execution_count": null,
   "metadata": {},
   "outputs": [],
   "source": [
    "mycursor.execute('''\n",
    "    select * from crime.chicago where Arrest = TRUE and Domestic = False;\n",
    "''')\n",
    "out = mycursor.fetchall()\n",
    "\n",
    "from tabulate import tabulate\n",
    "print(tabulate(out, headers=[i[0] for i in mycursor.description], tablefmt='psql'))"
   ]
  },
  {
   "cell_type": "code",
   "execution_count": null,
   "metadata": {},
   "outputs": [],
   "source": [
    "mycursor.execute('''\n",
    "    select * from crime.chicago where Block = '027XX N NARRAGANSETT AVE';\n",
    "''')\n",
    "out = mycursor.fetchall()\n",
    "\n",
    "from tabulate import tabulate\n",
    "print(tabulate(out, headers=[i[0] for i in mycursor.description], tablefmt='psql'))"
   ]
  },
  {
   "cell_type": "code",
   "execution_count": null,
   "metadata": {},
   "outputs": [],
   "source": [
    "mycursor.execute('''\n",
    "    select District, count(*) as Total_Crimes from crime.chicago\n",
    "group by District order by Total_Crimes desc;\n",
    "''')\n",
    "out = mycursor.fetchall()\n",
    "\n",
    "from tabulate import tabulate\n",
    "print(tabulate(out, headers=[i[0] for i in mycursor.description], tablefmt='psql'))"
   ]
  },
  {
   "cell_type": "code",
   "execution_count": null,
   "metadata": {},
   "outputs": [],
   "source": [
    "\n",
    "mycursor.execute('''\n",
    "    select Year, count(*) as Total_Crimes from crime.chicago\n",
    "group by Year order by Total_Crimes desc;\n",
    "''')\n",
    "out = mycursor.fetchall()\n",
    "\n",
    "from tabulate import tabulate\n",
    "print(tabulate(out, headers=[i[0] for i in mycursor.description], tablefmt='psql'))"
   ]
  }
 ],
 "metadata": {
  "kernelspec": {
   "display_name": "Python 3",
   "language": "python",
   "name": "python3"
  },
  "language_info": {
   "codemirror_mode": {
    "name": "ipython",
    "version": 3
   },
   "file_extension": ".py",
   "mimetype": "text/x-python",
   "name": "python",
   "nbconvert_exporter": "python",
   "pygments_lexer": "ipython3",
   "version": "3.13.0"
  }
 },
 "nbformat": 4,
 "nbformat_minor": 2
}
